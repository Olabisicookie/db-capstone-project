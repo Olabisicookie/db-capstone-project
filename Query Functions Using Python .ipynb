{
 "cells": [
  {
   "cell_type": "code",
   "execution_count": 1,
   "id": "34cc4b1d",
   "metadata": {},
   "outputs": [
    {
     "name": "stdout",
     "output_type": "stream",
     "text": [
      "Requirement already satisfied: mysql-connector-python in ./opt/anaconda3/lib/python3.9/site-packages (8.0.32)\r\n",
      "Requirement already satisfied: protobuf<=3.20.3,>=3.11.0 in ./opt/anaconda3/lib/python3.9/site-packages (from mysql-connector-python) (3.20.3)\r\n"
     ]
    }
   ],
   "source": [
    "!pip install mysql-connector-python"
   ]
  },
  {
   "cell_type": "code",
   "execution_count": 2,
   "id": "49191269",
   "metadata": {},
   "outputs": [],
   "source": [
    "import mysql.connector as connector"
   ]
  },
  {
   "cell_type": "code",
   "execution_count": 6,
   "id": "5c7461f1",
   "metadata": {},
   "outputs": [],
   "source": [
    "connection = connector.connect(user = \"admin1\", password = \"King6please\", db = \"LittleLemonDB\")"
   ]
  },
  {
   "cell_type": "code",
   "execution_count": 8,
   "id": "171ec831",
   "metadata": {},
   "outputs": [
    {
     "name": "stdout",
     "output_type": "stream",
     "text": [
      "successfull\n"
     ]
    }
   ],
   "source": [
    "cursor=connection.cursor()\n",
    "print('successfull')"
   ]
  },
  {
   "cell_type": "code",
   "execution_count": 9,
   "id": "3f2a97c0",
   "metadata": {},
   "outputs": [
    {
     "name": "stdout",
     "output_type": "stream",
     "text": [
      "('Bookings',)\n",
      "('Customers',)\n",
      "('MenuItems',)\n",
      "('Menus',)\n",
      "('OrderItems',)\n",
      "('Orders',)\n",
      "('ordersview',)\n",
      "('Payments',)\n",
      "('Reservations',)\n",
      "('Shifts',)\n",
      "('Staff',)\n",
      "('Tables',)\n"
     ]
    }
   ],
   "source": [
    "show_tables_query = \"SHOW tables\" \n",
    "cursor.execute(show_tables_query)\n",
    "for table in cursor:\n",
    "    print(table)\n"
   ]
  },
  {
   "cell_type": "code",
   "execution_count": 11,
   "id": "f5a6ab95",
   "metadata": {},
   "outputs": [
    {
     "name": "stdout",
     "output_type": "stream",
     "text": [
      "Data Requested\n",
      "('fullName', 'Email', 'PhoneNumber')\n",
      "('John Doe', 'johndoe@example.com', 1234567)\n",
      "('Jane Smith', 'janesmith@example.com', 234567)\n",
      "('Bob Johnson', 'bobjohnson@example.com', 345678)\n",
      "('Alice Brown', 'alicebrown@example.com', 45678)\n",
      "('Mark Davis', 'markdavis@example.com', 56789)\n"
     ]
    }
   ],
   "source": [
    "CustomersOrders = '''SELECT fullName, Email, PhoneNumber\n",
    "FROM Customers\n",
    "WHERE customerID IN (\n",
    "    SELECT CustomerID\n",
    "    FROM Orders\n",
    "    WHERE TotalCost > 60\n",
    ");\n",
    "'''\n",
    "cursor.execute(CustomersOrders)\n",
    "\n",
    "results = cursor.fetchall()\n",
    "cols = cursor.column_names\n",
    "\n",
    "\n",
    "print('Data Requested')\n",
    "print(cols)\n",
    "for result in results:\n",
    "    print(result)\n"
   ]
  },
  {
   "cell_type": "code",
   "execution_count": null,
   "id": "46233b26",
   "metadata": {},
   "outputs": [],
   "source": []
  }
 ],
 "metadata": {
  "kernelspec": {
   "display_name": "Python 3 (ipykernel)",
   "language": "python",
   "name": "python3"
  },
  "language_info": {
   "codemirror_mode": {
    "name": "ipython",
    "version": 3
   },
   "file_extension": ".py",
   "mimetype": "text/x-python",
   "name": "python",
   "nbconvert_exporter": "python",
   "pygments_lexer": "ipython3",
   "version": "3.9.13"
  }
 },
 "nbformat": 4,
 "nbformat_minor": 5
}
